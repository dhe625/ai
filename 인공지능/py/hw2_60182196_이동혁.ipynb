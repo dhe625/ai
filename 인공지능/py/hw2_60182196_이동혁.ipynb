{
 "cells": [
  {
   "cell_type": "code",
   "execution_count": 1,
   "metadata": {
    "id": "i7xb7Xiaajs3",
    "outputId": "6ade91c5-caf8-42b5-9c86-f617eb85e626"
   },
   "outputs": [
    {
     "name": "stdout",
     "output_type": "stream",
     "text": [
      "mean = 29.962962962962962\n",
      "median = 25.0\n"
     ]
    }
   ],
   "source": [
    "# 1-a\n",
    "import numpy as np\n",
    "\n",
    "lst = [13, 15, 16, 16, 19, 20, 20, 21, 22, 22, 25, 25, 25, 25, 30, 33, 33, 35, 35, 35, 35, 36, 40,\n",
    "45, 46, 52, 70]\n",
    "\n",
    "print(\"mean = \" + str(np.mean(lst)))\n",
    "print(\"median = \" + str(np.median(lst)))"
   ]
  },
  {
   "cell_type": "code",
   "execution_count": 2,
   "metadata": {
    "id": "yva69bsMajs7",
    "outputId": "a872d0f0-ba38-4560-ef73-e66286487493",
    "scrolled": true
   },
   "outputs": [
    {
     "name": "stdout",
     "output_type": "stream",
     "text": [
      "25\n",
      "4\n"
     ]
    }
   ],
   "source": [
    "# 1-b\n",
    "import statistics as st\n",
    "\n",
    "print(st.mode(lst))\n",
    "print(lst.count(st.mode(lst)))"
   ]
  },
  {
   "cell_type": "code",
   "execution_count": 3,
   "metadata": {
    "id": "wJd399LXajs7",
    "outputId": "3c6a5f34-7d9c-4b0b-b213-363dc4337f37"
   },
   "outputs": [
    {
     "name": "stdout",
     "output_type": "stream",
     "text": [
      "20.5\n",
      "35.0\n"
     ]
    }
   ],
   "source": [
    "# 1-c\n",
    "print(np.quantile(lst,0.25))\n",
    "print(np.quantile(lst,0.75))"
   ]
  },
  {
   "cell_type": "code",
   "execution_count": 4,
   "metadata": {
    "id": "c5XcyRVwajs8",
    "outputId": "65246062-1c33-4940-c865-3a06ac4baccc"
   },
   "outputs": [
    {
     "name": "stdout",
     "output_type": "stream",
     "text": [
      "[13.  20.5 25.  35.  70. ]\n"
     ]
    }
   ],
   "source": [
    "# 1-d\n",
    "print(np.percentile(lst, [0, 25, 50, 75, 100]))"
   ]
  },
  {
   "cell_type": "code",
   "execution_count": 5,
   "metadata": {
    "id": "6nqRl_BOajs9",
    "outputId": "05f4521b-210d-4f0a-9751-4192109623d3"
   },
   "outputs": [
    {
     "data": {
      "image/png": "[encoded data removed]",
      "text/plain": [
       "<Figure size 432x288 with 1 Axes>"
      ]
     },
     "metadata": {
      "needs_background": "light"
     },
     "output_type": "display_data"
    }
   ],
   "source": [
    "# 1- e\n",
    "import matplotlib.pyplot as plt\n",
    "\n",
    "plt.boxplot(lst)\n",
    "plt.show()"
   ]
  },
  {
   "cell_type": "code",
   "execution_count": 6,
   "metadata": {
    "colab": {
     "base_uri": "https://localhost:8080/",
     "height": 198
    },
    "executionInfo": {
     "elapsed": 930,
     "status": "error",
     "timestamp": 1647496465711,
     "user": {
      "displayName": "이동혁",
      "photoUrl": "https://lh3.googleusercontent.com/a-/AOh14Gjepqp_Ka8GOIMlqMhpLiqnv7SOC88SWVccY15SlQ=s64",
      "userId": "12478192186960341755"
     },
     "user_tz": -540
    },
    "id": "aykU0rQCajs9",
    "outputId": "742be7c9-586b-428d-807d-70e0b7ce4aae"
   },
   "outputs": [
    {
     "data": {
      "image/png": "[encoded data removed]",
      "text/plain": [
       "<Figure size 432x288 with 1 Axes>"
      ]
     },
     "metadata": {
      "needs_background": "light"
     },
     "output_type": "display_data"
    },
    {
     "data": {
      "text/plain": [
       "((array([-1.95408825, -1.54243759, -1.29287772, -1.10504657, -0.94977721,\n",
       "         -0.81458215, -0.69285972, -0.5806392 , -0.47530485, -0.37500632,\n",
       "         -0.27835244, -0.18423656, -0.09172826,  0.        ,  0.09172826,\n",
       "          0.18423656,  0.27835244,  0.37500632,  0.47530485,  0.5806392 ,\n",
       "          0.69285972,  0.81458215,  0.94977721,  1.10504657,  1.29287772,\n",
       "          1.54243759,  1.95408825]),\n",
       "  array([13, 15, 16, 16, 19, 20, 20, 21, 22, 22, 25, 25, 25, 25, 30, 33, 33,\n",
       "         35, 35, 35, 35, 36, 40, 45, 46, 52, 70])),\n",
       " (12.793238117173717, 29.96296296296296, 0.9481096505823599))"
      ]
     },
     "execution_count": 6,
     "metadata": {},
     "output_type": "execute_result"
    },
    {
     "data": {
      "image/png": "[encoded data removed]",
      "text/plain": [
       "<Figure size 432x288 with 1 Axes>"
      ]
     },
     "metadata": {
      "needs_background": "light"
     },
     "output_type": "display_data"
    }
   ],
   "source": [
    "# 1 - f\n",
    "import matplotlib.pyplot as plt\n",
    "import scipy.stats as sci\n",
    "\n",
    "# Q plot\n",
    "x = []\n",
    "for n in lst:\n",
    "    x.append((n-1)/(max(lst)-1))\n",
    "y = lst\n",
    "plt.plot(x,y)\n",
    "plt.scatter(x,y)\n",
    "plt.show()\n",
    "\n",
    "# Q-Q plot\n",
    "sci.probplot(lst, dist=\"norm\", plot=plt)"
   ]
  },
  {
   "cell_type": "code",
   "execution_count": 7,
   "metadata": {
    "id": "rI0LmTxKajs-",
    "outputId": "4c697541-4087-4895-a339-2245b9ed3efc"
   },
   "outputs": [
    {
     "name": "stdout",
     "output_type": "stream",
     "text": [
      "Approximated median =  33.94\n"
     ]
    }
   ],
   "source": [
    "# 2\n",
    "# 참고\n",
    "# https://stackoverflow.com/questions/69487460/find-median-of-interval-data-in-python\n",
    "import pandas as pd\n",
    "\n",
    "df = pd.DataFrame.from_dict({'low_range':[1,6,16,21,51,81], 'high_range':[5,15,20,50,80,110], 'frequency':[200,450,300,1500,700,44]})\n",
    "\n",
    "N = df['frequency'].sum()\n",
    "\n",
    "# calulating L1\n",
    "index = abs(df['frequency'].cumsum() - N/2).idxmin()\n",
    "L1 = df['low_range'][index + 1]\n",
    "cumsum_before = df['frequency'].cumsum()[index]\n",
    "freq_medain = df['frequency'][index + 1]\n",
    "width = df['high_range'][index + 1] - df['low_range'][index + 1]  + 1\n",
    "\n",
    "median = L1 + (N/2 - cumsum_before ) / freq_medain * width\n",
    "\n",
    "print(\"Approximated median = \", median)"
   ]
  },
  {
   "cell_type": "code",
   "execution_count": 8,
   "metadata": {
    "id": "ZSzFneGFajs_",
    "outputId": "6b3a6e02-7352-442b-ed27-41f7a0297082"
   },
   "outputs": [
    {
     "name": "stdout",
     "output_type": "stream",
     "text": [
      "6.708203932499369\n",
      "11\n",
      "6\n"
     ]
    }
   ],
   "source": [
    "t1 = (22,1,42,10)\n",
    "t2 = (20,0,36,8)\n",
    "\n",
    "# 3-a\n",
    "\n",
    "result = 0\n",
    "for num in range(len(t1)):\n",
    "    result += (t1[num]-t2[num])**2\n",
    "result = result**0.5\n",
    "print(result)\n",
    "\n",
    "# 3-b\n",
    "\n",
    "result = 0\n",
    "for num in range(len(t1)):\n",
    "    result += abs(t1[num] - t2[num])\n",
    "print(result)\n",
    "\n",
    "# 3-c\n",
    "\n",
    "lst2 = []\n",
    "for num in range(len(t1)):\n",
    "    lst2.append(abs(t1[num] - t2[num]))\n",
    "print(max(lst2))\n",
    "\n",
    "# 확인용 \n",
    "# https://stackoverflow.com/questions/48876953/supremum-distance-in-scipy-python\n",
    "# print()\n",
    "# import scipy.spatial.distance as dist\n",
    "# print(dist.euclidean(t1,t2))\n",
    "# print(dist.cityblock(t1,t2))\n",
    "# print(dist.chebyshev(t1,t2))"
   ]
  },
  {
   "cell_type": "code",
   "execution_count": 15,
   "metadata": {
    "id": "-sB6rNj7ajs_",
    "outputId": "fc8a453c-0c68-4995-98b5-fe9299e20eaf",
    "scrolled": false
   },
   "outputs": [
    {
     "name": "stdout",
     "output_type": "stream",
     "text": [
      "Euclidean distance\n",
      "0.14142135623730948\n",
      "0.6708203932499369\n",
      "0.28284271247461906\n",
      "0.22360679774997896\n",
      "0.608276253029822\n",
      "\n",
      "Manhattan distance\n",
      "0.19999999999999996\n",
      "0.8999999999999999\n",
      "0.40000000000000013\n",
      "0.30000000000000004\n",
      "0.7000000000000002\n",
      "\n",
      "Supremum distance\n",
      "0.10000000000000009\n",
      "0.6000000000000001\n",
      "0.20000000000000018\n",
      "0.19999999999999996\n",
      "0.6000000000000001\n",
      "\n",
      "Cosine similarity\n",
      "0.999991391443956\n",
      "0.9957522612528874\n",
      "0.9999694838187877\n",
      "0.9990282349375618\n",
      "0.9653633930282662\n"
     ]
    }
   ],
   "source": [
    "# 4\n",
    "\n",
    "x1 = (1.5,1.7)\n",
    "x2 = (2,1.9)\n",
    "x3 = (1.6,1.8)\n",
    "x4 = (1.2,1.5)\n",
    "x5 = (1.5,1.0)\n",
    "\n",
    "X = (x1,x2,x3,x4,x5)\n",
    "x = (1.4,1.6)\n",
    "\n",
    "print(\"Euclidean distance\")\n",
    "for num in range(len(X)):\n",
    "    print((((x[0]-X[num][0])**2+(x[1]-X[num][1])**2)**0.5))\n",
    "\n",
    "print()\n",
    "print(\"Manhattan distance\")\n",
    "for num in range(len(X)):\n",
    "    print(abs(x[0] - X[num][0])+abs(x[1] - X[num][1]))\n",
    "\n",
    "print()\n",
    "print(\"Supremum distance\")\n",
    "for num in range(len(X)):\n",
    "    print(max(abs(x[0] - X[num][0]),abs(x[1] - X[num][1])))\n",
    "    \n",
    "print()\n",
    "print(\"Cosine similarity\")\n",
    "for num in range(len(X)):\n",
    "    d1 = (X[num][0]**2+X[num][1]**2)**0.5\n",
    "    d2 = (x[0]**2+x[1]**2)**0.5\n",
    "    print((X[num][0]*x[0]+X[num][1]*x[1])/(d1*d2))\n",
    "\n",
    "# 답 확인\n",
    "# https://textbooks.elsevier.com/manualsprotectedtextbooks/9780123814791/Instructor's_manual.pdf"
   ]
  },
  {
   "cell_type": "code",
   "execution_count": null,
   "metadata": {
    "id": "UlQmGXvrajtA"
   },
   "outputs": [],
   "source": []
  }
 ],
 "metadata": {
  "colab": {
   "name": "hw2_60182196_이동혁.ipynb",
   "provenance": []
  },
  "kernelspec": {
   "display_name": "Python 3",
   "language": "python",
   "name": "python3"
  },
  "language_info": {
   "codemirror_mode": {
    "name": "ipython",
    "version": 3
   },
   "file_extension": ".py",
   "mimetype": "text/x-python",
   "name": "python",
   "nbconvert_exporter": "python",
   "pygments_lexer": "ipython3",
   "version": "3.8.5"
  }
 },
 "nbformat": 4,
 "nbformat_minor": 1
}
