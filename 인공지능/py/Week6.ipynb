{
 "cells": [
  {
   "cell_type": "code",
   "execution_count": 10,
   "metadata": {},
   "outputs": [
    {
     "name": "stdout",
     "output_type": "stream",
     "text": [
      "   col  scale  minmax_scale\n",
      "0   -3   -1.5      0.000000\n",
      "1   -1   -1.0      0.166667\n",
      "2    1   -0.5      0.333333\n",
      "3    3    0.0      0.500000\n",
      "4    5    0.5      0.666667\n",
      "5    7    1.0      0.833333\n",
      "6    9    1.5      1.000000\n"
     ]
    },
    {
     "data": {
      "text/html": [
       "<div>\n",
       "<style scoped>\n",
       "    .dataframe tbody tr th:only-of-type {\n",
       "        vertical-align: middle;\n",
       "    }\n",
       "\n",
       "    .dataframe tbody tr th {\n",
       "        vertical-align: top;\n",
       "    }\n",
       "\n",
       "    .dataframe thead th {\n",
       "        text-align: right;\n",
       "    }\n",
       "</style>\n",
       "<table border=\"1\" class=\"dataframe\">\n",
       "  <thead>\n",
       "    <tr style=\"text-align: right;\">\n",
       "      <th></th>\n",
       "      <th>col</th>\n",
       "      <th>scale</th>\n",
       "      <th>minmax_scale</th>\n",
       "    </tr>\n",
       "  </thead>\n",
       "  <tbody>\n",
       "    <tr>\n",
       "      <th>count</th>\n",
       "      <td>7.000000</td>\n",
       "      <td>7.000000</td>\n",
       "      <td>7.000000</td>\n",
       "    </tr>\n",
       "    <tr>\n",
       "      <th>mean</th>\n",
       "      <td>3.000000</td>\n",
       "      <td>0.000000</td>\n",
       "      <td>0.500000</td>\n",
       "    </tr>\n",
       "    <tr>\n",
       "      <th>std</th>\n",
       "      <td>4.320494</td>\n",
       "      <td>1.080123</td>\n",
       "      <td>0.360041</td>\n",
       "    </tr>\n",
       "    <tr>\n",
       "      <th>min</th>\n",
       "      <td>-3.000000</td>\n",
       "      <td>-1.500000</td>\n",
       "      <td>0.000000</td>\n",
       "    </tr>\n",
       "    <tr>\n",
       "      <th>25%</th>\n",
       "      <td>0.000000</td>\n",
       "      <td>-0.750000</td>\n",
       "      <td>0.250000</td>\n",
       "    </tr>\n",
       "    <tr>\n",
       "      <th>50%</th>\n",
       "      <td>3.000000</td>\n",
       "      <td>0.000000</td>\n",
       "      <td>0.500000</td>\n",
       "    </tr>\n",
       "    <tr>\n",
       "      <th>75%</th>\n",
       "      <td>6.000000</td>\n",
       "      <td>0.750000</td>\n",
       "      <td>0.750000</td>\n",
       "    </tr>\n",
       "    <tr>\n",
       "      <th>max</th>\n",
       "      <td>9.000000</td>\n",
       "      <td>1.500000</td>\n",
       "      <td>1.000000</td>\n",
       "    </tr>\n",
       "  </tbody>\n",
       "</table>\n",
       "</div>"
      ],
      "text/plain": [
       "            col     scale  minmax_scale\n",
       "count  7.000000  7.000000      7.000000\n",
       "mean   3.000000  0.000000      0.500000\n",
       "std    4.320494  1.080123      0.360041\n",
       "min   -3.000000 -1.500000      0.000000\n",
       "25%    0.000000 -0.750000      0.250000\n",
       "50%    3.000000  0.000000      0.500000\n",
       "75%    6.000000  0.750000      0.750000\n",
       "max    9.000000  1.500000      1.000000"
      ]
     },
     "execution_count": 10,
     "metadata": {},
     "output_type": "execute_result"
    }
   ],
   "source": [
    "# Scaling\n",
    "\n",
    "import pandas as pd\n",
    "from sklearn.preprocessing import scale, minmax_scale\n",
    "\n",
    "x = pd.DataFrame({'col' : [-3, -1, 1, 3, 5, 7, 9]})\n",
    "\n",
    "# 평균 0, 분산 1을 이용하여 정규화\n",
    "# astype(float)은 scale의 입력이 float이므로 warning 방지를 위해 변환\n",
    "x['scale'] = scale(x.col.astype(float)) # Z-score normalization\n",
    "x['minmax_scale'] = minmax_scale(x.col.astype(float)) # Min_max normalization\n",
    "print(x)\n",
    "\n",
    "x.describe()"
   ]
  },
  {
   "cell_type": "code",
   "execution_count": 11,
   "metadata": {},
   "outputs": [
    {
     "name": "stdout",
     "output_type": "stream",
     "text": [
      "          A         B      C\n",
      "0  0.000000  0.000000    big\n",
      "1  0.926219  0.363636  small\n",
      "2  0.935335  0.628645    big\n",
      "3  1.000000  0.961407  small\n",
      "4  0.938495  1.000000  small\n"
     ]
    }
   ],
   "source": [
    "# MinMaxScaler\n",
    "\n",
    "import pandas as pd\n",
    "from sklearn.preprocessing import MinMaxScaler\n",
    "\n",
    "scaler = MinMaxScaler()\n",
    "\n",
    "dfTest = pd.DataFrame({'A' : [14.00, 90.20, 90.95, 96.27, 91.21],\n",
    "                      'B' : [103.02, 107.26, 110.35, 114.23, 114.68],\n",
    "                      'C' : ['big', 'small', 'big', 'small', 'small']})\n",
    "\n",
    "dfTest[['A','B']] = scaler.fit_transform(dfTest[['A','B']])\n",
    "print(dfTest)"
   ]
  },
  {
   "cell_type": "code",
   "execution_count": 12,
   "metadata": {},
   "outputs": [
    {
     "name": "stdout",
     "output_type": "stream",
     "text": [
      "['amsterdam' 'paris' 'tokyo']\n",
      "<class 'numpy.ndarray'> \n",
      "\n",
      "[1 1 2 0]\n",
      "<class 'numpy.ndarray'> \n",
      "\n",
      "[1 1 2 0]\n",
      "<class 'numpy.ndarray'> \n",
      "\n",
      "['tokyo' 'tokyo' 'paris']\n",
      "<class 'numpy.ndarray'>\n"
     ]
    }
   ],
   "source": [
    "# Transform\n",
    "\n",
    "from sklearn import preprocessing\n",
    "le = preprocessing.LabelEncoder() # LabelEncoder 객체 생성\n",
    "\n",
    "le.fit(['paris', 'paris', 'tokyo', 'amsterdam'])\n",
    "print(le.classes_)\n",
    "print(type(le.classes_), \"\\n\")\n",
    "\n",
    "data = le.transform(['paris', 'paris', 'tokyo', 'amsterdam'])\n",
    "print(data)\n",
    "print(type(data), \"\\n\")\n",
    "\n",
    "# 위 method를 한 번에 처리\n",
    "data2 = le.fit_transform(['paris', 'paris', 'tokyo', 'amsterdam'])\n",
    "print(data2)\n",
    "print(type(data2), \"\\n\")\n",
    "\n",
    "# fit_transform <-> inverse_transform\n",
    "original = le.inverse_transform([2, 2, 1])\n",
    "print(original)\n",
    "print(type(data))"
   ]
  },
  {
   "cell_type": "code",
   "execution_count": 13,
   "metadata": {},
   "outputs": [
    {
     "name": "stdout",
     "output_type": "stream",
     "text": [
      "['a', 'b', 'c', 'd', 'e', 'f', 'g', 'h', 'i', 'j', 'k', 'l', 'm', 'n', 'o', 'p', 'q', 'r', 's', 't', 'u', 'v', 'w', 'x', 'y', 'z']\n",
      "[16  0 25]\n"
     ]
    }
   ],
   "source": [
    "from sklearn import preprocessing\n",
    "le = preprocessing.LabelEncoder()\n",
    "\n",
    "str = []\n",
    "for i in range(ord('a'), ord('z')+1): # ord('a'): 'a'의 ascii code\n",
    "    str.append(chr(i)) # chr('i'): ascii code i에 해당하는 문자\n",
    "print(str)\n",
    "\n",
    "le.fit(str)\n",
    "data = le.transform(['q', 'a', 'z'])\n",
    "print(data)"
   ]
  },
  {
   "cell_type": "code",
   "execution_count": 14,
   "metadata": {},
   "outputs": [
    {
     "name": "stdout",
     "output_type": "stream",
     "text": [
      "   A  B\n",
      "0  0  0\n",
      "1  1  1\n",
      "2  1  0\n",
      "3  2  1\n",
      "4  0  0\n",
      "<class 'pandas.core.frame.DataFrame'> \n",
      "\n"
     ]
    }
   ],
   "source": [
    "# DataFrame Transform\n",
    "\n",
    "import pandas as pd\n",
    "from sklearn import preprocessing\n",
    "le = preprocessing.LabelEncoder()\n",
    "\n",
    "df = pd.DataFrame({'A' : ['a', 'b', 'b', 'c', 'a'],\n",
    "                  'B' : ['x', 'y', 'x', 'y', 'x']})\n",
    "\n",
    "# df.apply는 DataFram에서 인자로 주어진 함수를 각 Column에 적용하는 함수\n",
    "data = df.apply(le.fit_transform)\n",
    "print(data)\n",
    "print(type(data), \"\\n\")"
   ]
  },
  {
   "cell_type": "code",
   "execution_count": 1,
   "metadata": {},
   "outputs": [
    {
     "name": "stdout",
     "output_type": "stream",
     "text": [
      "   country_australia  country_germany  country_korea  country_russia\n",
      "0                  0                0              0               1\n",
      "1                  0                1              0               0\n",
      "2                  1                0              0               0\n",
      "3                  0                0              1               0\n",
      "4                  0                1              0               0\n",
      "<class 'pandas.core.frame.DataFrame'>\n",
      "   country_australia  country_germany  country_korea  country_russia\n",
      "0                  0                0              0               1\n",
      "1                  0                1              0               0\n",
      "2                  1                0              0               0\n",
      "3                  0                0              1               0\n",
      "4                  0                1              0               0\n"
     ]
    }
   ],
   "source": [
    "# One-hot encoding\n",
    "\n",
    "import pandas as pd\n",
    "\n",
    "df = pd.DataFrame({'country' : ['russia', 'germany', 'australia', 'korea', 'germany']})\n",
    "a = pd.get_dummies(df, prefix = ['country'])\n",
    "print(a)\n",
    "\n",
    "b = pd.get_dummies(df)\n",
    "print(b)"
   ]
  },
  {
   "cell_type": "code",
   "execution_count": 16,
   "metadata": {},
   "outputs": [
    {
     "name": "stdout",
     "output_type": "stream",
     "text": [
      "   A  a  b  c\n",
      "0  a  0  1  0\n",
      "1  b  1  0  0\n",
      "2  a  0  0  1\n"
     ]
    }
   ],
   "source": [
    "df = pd.DataFrame({'A' : ['a', 'b', 'a'],\n",
    "                   'B' : ['b', 'a', 'c']})\n",
    "\n",
    "one_hot = pd.get_dummies(df['B'])\n",
    "df = df.drop('B', axis = 1) # axis = 0은 index(row), axis = 1은 column\n",
    "df = df.join(one_hot)\n",
    "print(df)"
   ]
  },
  {
   "cell_type": "code",
   "execution_count": 17,
   "metadata": {},
   "outputs": [
    {
     "name": "stdout",
     "output_type": "stream",
     "text": [
      "   A_a  A_b  A_c  B_x  B_y\n",
      "0    1    0    0    1    0\n",
      "1    0    1    0    0    1\n",
      "2    0    1    0    1    0\n",
      "3    0    0    1    0    1\n",
      "4    1    0    0    1    0\n"
     ]
    }
   ],
   "source": [
    "df = pd.DataFrame({'A' : ['a', 'b', 'b', 'c', 'a'],\n",
    "                  'B' : ['x', 'y', 'x', 'y', 'x']})\n",
    "a = pd.get_dummies(df, prefix = ['A', 'B'])\n",
    "print(a)"
   ]
  },
  {
   "cell_type": "code",
   "execution_count": 18,
   "metadata": {},
   "outputs": [
    {
     "name": "stdout",
     "output_type": "stream",
     "text": [
      "   B  A_a  A_b  A_c\n",
      "0  3    1    0    0\n",
      "1  4    0    1    0\n",
      "2  7    0    1    0\n",
      "3  2    0    0    1\n",
      "4  5    1    0    0\n"
     ]
    }
   ],
   "source": [
    "df = pd.DataFrame({'A' : ['a', 'b', 'b', 'c', 'a'],\n",
    "                  'B' : [3, 4, 7, 2, 5]})\n",
    "a = pd.get_dummies(df) # prefix = ['A']가 기본값\n",
    "print(a)"
   ]
  },
  {
   "cell_type": "code",
   "execution_count": 19,
   "metadata": {},
   "outputs": [
    {
     "name": "stdout",
     "output_type": "stream",
     "text": [
      "   country\n",
      "0        3\n",
      "1        1\n",
      "2        0\n",
      "3        2\n",
      "4        1\n",
      "<class 'pandas.core.frame.DataFrame'>\n",
      "  (0, 3)\t1.0\n",
      "  (1, 1)\t1.0\n",
      "  (2, 0)\t1.0\n",
      "  (3, 2)\t1.0\n",
      "  (4, 1)\t1.0\n",
      "<class 'scipy.sparse.csr.csr_matrix'>\n",
      "[[0. 0. 0. 1.]\n",
      " [0. 1. 0. 0.]\n",
      " [1. 0. 0. 0.]\n",
      " [0. 0. 1. 0.]\n",
      " [0. 1. 0. 0.]]\n",
      "<class 'numpy.ndarray'>\n"
     ]
    }
   ],
   "source": [
    "import pandas as pd\n",
    "from sklearn.preprocessing import OneHotEncoder\n",
    "from sklearn.preprocessing import LabelEncoder\n",
    "\n",
    "x1 = pd.DataFrame({'country' : ['russia', 'germany', 'australia', 'korea', 'germany']})\n",
    "\n",
    "# DataFrame 전체를 라벨인코딩(숫자로 변환)한 후, one-hot encoding을 해야함\n",
    "le = LabelEncoder()\n",
    "x2 = x1.apply(le.fit_transform)\n",
    "print(x2)\n",
    "print(type(x2))\n",
    "\n",
    "encoder = OneHotEncoder()\n",
    "x2 = encoder.fit_transform(x2) # sparse matrix로 변환됨\n",
    "print(x2)\n",
    "print(type(x2))\n",
    "\n",
    "x3 = x2.toarray() # numpy array로 변환, 추후에 DataFrame으로 변환\n",
    "print(x3)\n",
    "print(type(x3))"
   ]
  },
  {
   "cell_type": "code",
   "execution_count": 20,
   "metadata": {},
   "outputs": [
    {
     "name": "stdout",
     "output_type": "stream",
     "text": [
      "  (0, 3)\t1.0\n",
      "  (1, 1)\t1.0\n",
      "  (2, 0)\t1.0\n",
      "  (3, 2)\t1.0\n",
      "  (4, 1)\t1.0\n",
      "<class 'scipy.sparse.csr.csr_matrix'>\n"
     ]
    }
   ],
   "source": [
    "import pandas as pd\n",
    "from sklearn.preprocessing import OneHotEncoder\n",
    "\n",
    "x1 = pd.DataFrame({'country' : ['russia', 'germany', 'australia', 'korea', 'germany']})\n",
    "\n",
    "encoder = OneHotEncoder(categories = 'auto') # LabelEncoder 사용 필요x\n",
    "x2 = encoder.fit_transform(x1)\n",
    "print(x2)\n",
    "print(type(x2))"
   ]
  },
  {
   "cell_type": "code",
   "execution_count": 25,
   "metadata": {},
   "outputs": [
    {
     "name": "stdout",
     "output_type": "stream",
     "text": [
      "  (0, 3)\t1.0\n",
      "  (1, 1)\t1.0\n",
      "  (2, 0)\t1.0\n",
      "  (3, 2)\t1.0\n",
      "  (4, 1)\t1.0\n",
      "<class 'scipy.sparse.csr.csr_matrix'>\n",
      "[[0. 0. 0. 1.]\n",
      " [0. 1. 0. 0.]\n",
      " [1. 0. 0. 0.]\n",
      " [0. 0. 1. 0.]\n",
      " [0. 1. 0. 0.]]\n",
      "<class 'numpy.ndarray'>\n",
      "     0    1    2    3\n",
      "0  0.0  0.0  0.0  1.0\n",
      "1  0.0  1.0  0.0  0.0\n",
      "2  1.0  0.0  0.0  0.0\n",
      "3  0.0  0.0  1.0  0.0\n",
      "4  0.0  1.0  0.0  0.0\n",
      "<class 'pandas.core.frame.DataFrame'>\n"
     ]
    }
   ],
   "source": [
    "import pandas as pd\n",
    "from sklearn.preprocessing import OneHotEncoder\n",
    "from sklearn.preprocessing import LabelEncoder\n",
    "\n",
    "df = pd.DataFrame({'A' : ['a', 'b', 'b', 'c', 'a'],\n",
    "                  'B' : ['x', 'y', 'x', 'y', 'x']})\n",
    "\n",
    "encoder = OneHotEncoder(categories = 'auto')\n",
    "x2 = encoder.fit_transform(x1)\n",
    "print(x2)\n",
    "print(type(x2))\n",
    "\n",
    "x3 = x2.toarray()\n",
    "print(x3)\n",
    "print(type(x3))\n",
    "\n",
    "x4 = pd.DataFrame(x3)\n",
    "print(x4)\n",
    "print(type(x4))"
   ]
  },
  {
   "cell_type": "code",
   "execution_count": 22,
   "metadata": {},
   "outputs": [
    {
     "name": "stdout",
     "output_type": "stream",
     "text": [
      "[[1. 0. 0. 3.]\n",
      " [0. 1. 0. 4.]\n",
      " [0. 1. 0. 5.]\n",
      " [0. 0. 1. 1.]\n",
      " [1. 0. 0. 7.]]\n",
      "<class 'numpy.ndarray'>\n",
      "\n"
     ]
    }
   ],
   "source": [
    "import pandas as pd\n",
    "from sklearn.preprocessing import OneHotEncoder\n",
    "from sklearn.compose import ColumnTransformer\n",
    "\n",
    "x = pd.DataFrame({'A' : ['a', 'b', 'b', 'c', 'a'],\n",
    "                 'B' : [3, 4, 5, 1, 7]})\n",
    "\n",
    "ct = ColumnTransformer(\n",
    "    [('one_hot_encoder', OneHotEncoder(), [0])], remainder = 'passthrough'\n",
    ") # ColumnTransformer 사용 권장\n",
    "\n",
    "x = ct.fit_transform(x)\n",
    "print(x)\n",
    "print(type(x))\n",
    "print()"
   ]
  },
  {
   "cell_type": "code",
   "execution_count": 23,
   "metadata": {},
   "outputs": [
    {
     "name": "stdout",
     "output_type": "stream",
     "text": [
      "    0    1   2   3    4     5      6   7  8\n",
      "0   6  148  72  35    0  33.6  0.627  50  1\n",
      "1   1   85  66  29    0  26.6  0.351  31  0\n",
      "2   8  183  64   0    0  23.3  0.672  32  1\n",
      "3   1   89  66  23   94  28.1  0.167  21  0\n",
      "4   0  137  40  35  168  43.1  2.288  33  1\n",
      "5   5  116  74   0    0  25.6  0.201  30  0\n",
      "6   3   78  50  32   88  31.0  0.248  26  1\n",
      "7  10  115   0   0    0  35.3  0.134  29  0\n",
      "8   2  197  70  45  543  30.5  0.158  53  1\n",
      "9   8  125  96   0    0   0.0  0.232  54  1 \n",
      "\n",
      "0    111\n",
      "1      5\n",
      "2     35\n",
      "3    227\n",
      "4    374\n",
      "5     11\n",
      "6      0\n",
      "7      0\n",
      "8    500\n",
      "dtype: int64\n"
     ]
    }
   ],
   "source": [
    "import pandas as pd\n",
    "\n",
    "dataset = pd.read_csv('G:/내 드라이브/3-1/인공지능/py/pima-indians-diabetes.csv', header = None)\n",
    "print(dataset[0:10], \"\\n\")\n",
    "print((dataset==0).sum())"
   ]
  },
  {
   "cell_type": "code",
   "execution_count": 4,
   "metadata": {},
   "outputs": [
    {
     "name": "stdout",
     "output_type": "stream",
     "text": [
      "    0      1     2     3      4     5      6   7  8\n",
      "0   6  148.0  72.0  35.0    NaN  33.6  0.627  50  1\n",
      "1   1   85.0  66.0  29.0    NaN  26.6  0.351  31  0\n",
      "2   8  183.0  64.0   NaN    NaN  23.3  0.672  32  1\n",
      "3   1   89.0  66.0  23.0   94.0  28.1  0.167  21  0\n",
      "4   0  137.0  40.0  35.0  168.0  43.1  2.288  33  1\n",
      "5   5  116.0  74.0   NaN    NaN  25.6  0.201  30  0\n",
      "6   3   78.0  50.0  32.0   88.0  31.0  0.248  26  1\n",
      "7  10  115.0   NaN   NaN    NaN  35.3  0.134  29  0\n",
      "8   2  197.0  70.0  45.0  543.0  30.5  0.158  53  1\n",
      "9   8  125.0  96.0   NaN    NaN   NaN  0.232  54  1\n"
     ]
    }
   ],
   "source": [
    "import pandas as pd\n",
    "import numpy as np\n",
    "\n",
    "dataset = pd.read_csv('G:/내 드라이브/3-1/인공지능/py/pima-indians-diabetes.csv', header = None)\n",
    "dataset[[1,2,3,4,5]] = dataset[[1,2,3,4,5]].replace(0, np.NaN)\n",
    "\n",
    "print(dataset.head(10))"
   ]
  },
  {
   "cell_type": "code",
   "execution_count": 5,
   "metadata": {},
   "outputs": [
    {
     "name": "stdout",
     "output_type": "stream",
     "text": [
      "(768, 9)\n",
      "(392, 9)\n"
     ]
    }
   ],
   "source": [
    "import pandas as pd\n",
    "import numpy as np\n",
    "\n",
    "dataset = pd.read_csv('G:/내 드라이브/3-1/인공지능/py/pima-indians-diabetes.csv', header = None)\n",
    "dataset[[1,2,3,4,5]] = dataset[[1,2,3,4,5]].replace(0, np.NaN)\n",
    "\n",
    "print(dataset.shape)\n",
    "\n",
    "dataset.dropna(inplace = True) # inplace = True는 original dataset을 수정o\n",
    "\n",
    "print(dataset.shape)"
   ]
  },
  {
   "cell_type": "code",
   "execution_count": 6,
   "metadata": {},
   "outputs": [
    {
     "name": "stdout",
     "output_type": "stream",
     "text": [
      "0      3.845052\n",
      "1    121.686763\n",
      "2     72.405184\n",
      "3     29.153420\n",
      "4    155.548223\n",
      "5     32.457464\n",
      "6      0.471876\n",
      "7     33.240885\n",
      "8      0.348958\n",
      "dtype: float64\n",
      "0    0\n",
      "1    0\n",
      "2    0\n",
      "3    0\n",
      "4    0\n",
      "5    0\n",
      "6    0\n",
      "7    0\n",
      "8    0\n",
      "dtype: int64\n",
      "    0      1          2         3           4          5      6   7  8\n",
      "0   6  148.0  72.000000  35.00000  155.548223  33.600000  0.627  50  1\n",
      "1   1   85.0  66.000000  29.00000  155.548223  26.600000  0.351  31  0\n",
      "2   8  183.0  64.000000  29.15342  155.548223  23.300000  0.672  32  1\n",
      "3   1   89.0  66.000000  23.00000   94.000000  28.100000  0.167  21  0\n",
      "4   0  137.0  40.000000  35.00000  168.000000  43.100000  2.288  33  1\n",
      "5   5  116.0  74.000000  29.15342  155.548223  25.600000  0.201  30  0\n",
      "6   3   78.0  50.000000  32.00000   88.000000  31.000000  0.248  26  1\n",
      "7  10  115.0  72.405184  29.15342  155.548223  35.300000  0.134  29  0\n",
      "8   2  197.0  70.000000  45.00000  543.000000  30.500000  0.158  53  1\n",
      "9   8  125.0  96.000000  29.15342  155.548223  32.457464  0.232  54  1\n"
     ]
    }
   ],
   "source": [
    "import pandas as pd\n",
    "import numpy as np\n",
    "\n",
    "dataset = pd.read_csv('G:/내 드라이브/3-1/인공지능/py/pima-indians-diabetes.csv', header = None)\n",
    "dataset[[1,2,3,4,5]] = dataset[[1,2,3,4,5]].replace(0, np.NaN)\n",
    "\n",
    "print(dataset.mean())\n",
    "\n",
    "dataset.fillna(dataset.mean(), inplace = True)\n",
    "\n",
    "\n",
    "print(dataset.isnull().sum())\n",
    "print(dataset.head(10))"
   ]
  },
  {
   "cell_type": "code",
   "execution_count": null,
   "metadata": {},
   "outputs": [],
   "source": []
  }
 ],
 "metadata": {
  "kernelspec": {
   "display_name": "Python 3",
   "language": "python",
   "name": "python3"
  },
  "language_info": {
   "codemirror_mode": {
    "name": "ipython",
    "version": 3
   },
   "file_extension": ".py",
   "mimetype": "text/x-python",
   "name": "python",
   "nbconvert_exporter": "python",
   "pygments_lexer": "ipython3",
   "version": "3.8.5"
  }
 },
 "nbformat": 4,
 "nbformat_minor": 4
}
