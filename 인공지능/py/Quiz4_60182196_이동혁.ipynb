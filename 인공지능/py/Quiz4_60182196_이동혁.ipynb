{
 "cells": [
  {
   "cell_type": "code",
   "execution_count": null,
   "metadata": {},
   "outputs": [],
   "source": [
    "import requests\n",
    "from bs4 import BeautifulSoup\n",
    "from urllib.parse import urljoin\n",
    "\n",
    "USER = \"dhe625\"\n",
    "PASS = \"ehdgur625\"\n",
    "\n",
    "session = requests.session()\n",
    "\n",
    "login_info = {\n",
    "    \"m_id\" : USER,\n",
    "    \"m_passwd\" : PASS\n",
    "}\n",
    "\n",
    "url_login = \"https://www.hanbit.co.kr/member/login_proc.php\"\n",
    "res = session.post(url_login)"
   ]
  }
 ],
 "metadata": {
  "kernelspec": {
   "display_name": "Python 3",
   "language": "python",
   "name": "python3"
  },
  "language_info": {
   "codemirror_mode": {
    "name": "ipython",
    "version": 3
   },
   "file_extension": ".py",
   "mimetype": "text/x-python",
   "name": "python",
   "nbconvert_exporter": "python",
   "pygments_lexer": "ipython3",
   "version": "3.8.5"
  }
 },
 "nbformat": 4,
 "nbformat_minor": 4
}
