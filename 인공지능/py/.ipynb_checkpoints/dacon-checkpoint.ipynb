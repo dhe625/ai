{
 "cells": [
  {
   "cell_type": "code",
   "execution_count": 5,
   "metadata": {},
   "outputs": [
    {
     "name": "stderr",
     "output_type": "stream",
     "text": [
      "/Users/leedonghyeok/opt/anaconda3/lib/python3.8/site-packages/sklearn/feature_extraction/text.py:484: UserWarning: The parameter 'token_pattern' will not be used since 'tokenizer' is not None'\n",
      "  warnings.warn(\"The parameter 'token_pattern' will not be used\"\n"
     ]
    },
    {
     "name": "stdout",
     "output_type": "stream",
     "text": [
      "done\n"
     ]
    }
   ],
   "source": [
    "# https://dacon.io/competitions/official/235938/overview/description\n",
    "\n",
    "import konlpy\n",
    "import pandas as pd\n",
    "import numpy as np\n",
    "\n",
    "from sklearn.feature_extraction.text import TfidfVectorizer\n",
    "from sklearn.naive_bayes import MultinomialNB\n",
    "\n",
    "from konlpy.tag import Okt\n",
    "twitter_tag = Okt()\n",
    "\n",
    "def twitter_tokenizer(text):\n",
    "    malist = twitter_tag.pos(text, norm = True, stem = True)\n",
    "    r = []\n",
    "    for word in malist:\n",
    "        if not word[1] in ['Josa','Eomi','Punctuation','KoreanParticle']:\n",
    "            r.append(word[0])\n",
    "    return r\n",
    "\n",
    "df_train = pd.read_csv(\"/Users/leedonghyeok/Downloads/dataset/train.csv\", delimiter = ',', keep_default_na = False)\n",
    "df_test = pd.read_csv(\"/Users/leedonghyeok/Downloads/dataset/test.csv\", delimiter = ',', keep_default_na = False)\n",
    "\n",
    "reviews_train = df_train['reviews']\n",
    "target_train = df_train['target']\n",
    "\n",
    "reviews_test = df_test['reviews']\n",
    "\n",
    "vect = TfidfVectorizer(ngram_range = (1,3), tokenizer = twitter_tokenizer).fit(reviews_train)\n",
    "\n",
    "X_train = vect.transform(reviews_train)\n",
    "X_test = vect.transform(reviews_test)\n",
    "\n",
    "clf_mult = MultinomialNB().fit(X_train, target_train)\n",
    "\n",
    "pre = clf_mult.predict(X_test)\n",
    "\n",
    "print(\"done\")"
   ]
  },
  {
   "cell_type": "code",
   "execution_count": 3,
   "metadata": {},
   "outputs": [
    {
     "name": "stderr",
     "output_type": "stream",
     "text": [
      "/Users/leedonghyeok/opt/anaconda3/lib/python3.8/site-packages/sklearn/feature_extraction/text.py:484: UserWarning: The parameter 'token_pattern' will not be used since 'tokenizer' is not None'\n",
      "  warnings.warn(\"The parameter 'token_pattern' will not be used\"\n"
     ]
    },
    {
     "name": "stdout",
     "output_type": "stream",
     "text": [
      "done\n"
     ]
    }
   ],
   "source": [
    "import konlpy\n",
    "import pandas as pd\n",
    "import numpy as np\n",
    "\n",
    "from sklearn.feature_extraction.text import TfidfVectorizer\n",
    "from sklearn.linear_model import LogisticRegression\n",
    "\n",
    "from konlpy.tag import Okt\n",
    "twitter_tag = Okt()\n",
    "\n",
    "def twitter_tokenizer(text):\n",
    "    malist = twitter_tag.pos(text, norm = True, stem = True)\n",
    "    r = []\n",
    "    for word in malist:\n",
    "        if not word[1] in ['Josa','Eomi','Punctuation','KoreanParticle']:\n",
    "            r.append(word[0])\n",
    "    return r\n",
    "\n",
    "df_train = pd.read_csv(\"/Users/leedonghyeok/Downloads/dataset/train.csv\", delimiter = ',', keep_default_na = False)\n",
    "df_test = pd.read_csv(\"/Users/leedonghyeok/Downloads/dataset/test.csv\", delimiter = ',', keep_default_na = False)\n",
    "\n",
    "reviews_train = df_train['reviews']\n",
    "target_train = df_train['target']\n",
    "\n",
    "reviews_test = df_test['reviews']\n",
    "\n",
    "vect = TfidfVectorizer(ngram_range = (1,3), tokenizer = twitter_tokenizer).fit(reviews_train)\n",
    "\n",
    "X_train = vect.transform(reviews_train)\n",
    "X_test = vect.transform(reviews_test)\n",
    "\n",
    "clf = LogisticRegression(solver = 'sag', max_iter = 1000) # solver = 'sag' : 수업에서 배운 gradient descent 알고리즘\n",
    "clf.fit(X_train, target_train)\n",
    "\n",
    "pre = clf.predict(X_test)\n",
    "\n",
    "print(\"done\")"
   ]
  },
  {
   "cell_type": "code",
   "execution_count": 6,
   "metadata": {},
   "outputs": [
    {
     "name": "stdout",
     "output_type": "stream",
     "text": [
      "done\n"
     ]
    }
   ],
   "source": [
    "sub = pd.read_csv('/Users/leedonghyeok/Downloads/dataset/sample_submission.csv', delimiter = ',', keep_default_na = False)\n",
    "\n",
    "for i in range(len(pre)):\n",
    "    sub['target'][i] = pre[i]\n",
    "\n",
    "sub.to_csv('/Users/leedonghyeok/Downloads/dataset/answer8.csv', index = False)\n",
    "\n",
    "print(\"done\")"
   ]
  },
  {
   "cell_type": "code",
   "execution_count": 39,
   "metadata": {},
   "outputs": [
    {
     "data": {
      "text/plain": [
       "()"
      ]
     },
     "execution_count": 39,
     "metadata": {},
     "output_type": "execute_result"
    }
   ],
   "source": []
  }
 ],
 "metadata": {
  "kernelspec": {
   "display_name": "Python 3",
   "language": "python",
   "name": "python3"
  },
  "language_info": {
   "codemirror_mode": {
    "name": "ipython",
    "version": 3
   },
   "file_extension": ".py",
   "mimetype": "text/x-python",
   "name": "python",
   "nbconvert_exporter": "python",
   "pygments_lexer": "ipython3",
   "version": "3.8.5"
  }
 },
 "nbformat": 4,
 "nbformat_minor": 4
}
