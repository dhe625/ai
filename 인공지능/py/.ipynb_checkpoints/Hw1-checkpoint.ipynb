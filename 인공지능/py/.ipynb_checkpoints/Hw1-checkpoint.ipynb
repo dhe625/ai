{
 "cells": [
  {
   "cell_type": "code",
   "execution_count": 105,
   "metadata": {
    "scrolled": true
   },
   "outputs": [
    {
     "name": "stdout",
     "output_type": "stream",
     "text": [
      "{'dep': ['cs', 'cs', 'dt', 'dcd', 'dt', 'as', 'as', 'ice', 'ice', 'ice'], 'sno': ['0001', '0002', '0003', '0004', '0005', '0006', '0007', '0008', '0009', '0010'], 'gpa': [2.1, 3.5, 4.5, 2.7, 3.0, 3.15, 4.0, 0.0, 3.25, 3.7]}\n"
     ]
    }
   ],
   "source": [
    "# Q1.a\n",
    "a = {'dep' : ['cs', 'cs', 'dt', 'dcd', 'dt', 'as', 'as', 'ice', 'ice', 'ice'], \n",
    "            'sno' : ['0001', '0002', '0003', '0004', '0005', '0006', '0007', '0008', '0009', '0010'],\n",
    "              'gpa' : [2.10, 3.50, 4.50, 2.70, 3.00, 3.15, 4.00, 0.00, 3.25, 3.70]}\n",
    "print(a)"
   ]
  },
  {
   "cell_type": "code",
   "execution_count": 106,
   "metadata": {},
   "outputs": [
    {
     "name": "stdout",
     "output_type": "stream",
     "text": [
      "[['cs' 'cs' 'dt' 'dcd' 'dt' 'as' 'as' 'ice' 'ice' 'ice']\n",
      " ['0001' '0002' '0003' '0004' '0005' '0006' '0007' '0008' '0009' '0010']\n",
      " ['2.1' '3.5' '4.5' '2.7' '3.0' '3.15' '4.0' '0.0' '3.25' '3.7']]\n"
     ]
    }
   ],
   "source": [
    "# Q1.b\n",
    "import numpy as np\n",
    "\n",
    "b = np.array([['cs', 'cs', 'dt', 'dcd', 'dt', 'as', 'as', 'ice', 'ice', 'ice'], \n",
    "              ['0001', '0002', '0003', '0004', '0005', '0006', '0007', '0008', '0009', '0010'],\n",
    "              [2.10, 3.50, 4.50, 2.70, 3.00, 3.15, 4.00, 0.00, 3.25, 3.70]])\n",
    "print(b)"
   ]
  },
  {
   "cell_type": "code",
   "execution_count": 107,
   "metadata": {
    "scrolled": true
   },
   "outputs": [
    {
     "name": "stdout",
     "output_type": "stream",
     "text": [
      "        0     1     2     3     4     5     6     7     8     9\n",
      "dep    cs    cs    dt   dcd    dt    as    as   ice   ice   ice\n",
      "sno  0001  0002  0003  0004  0005  0006  0007  0008  0009  0010\n",
      "gpa   2.1   3.5   4.5   2.7     3  3.15     4     0  3.25   3.7\n"
     ]
    }
   ],
   "source": [
    "# Q1.c\n",
    "import pandas as pd\n",
    "\n",
    "c = pd.DataFrame({\n",
    "    'dep' : ['cs', 'cs', 'dt', 'dcd', 'dt', 'as', 'as', 'ice', 'ice', 'ice'],\n",
    "    'sno' : ['0001', '0002', '0003', '0004', '0005', '0006', '0007', '0008', '0009', '0010'],\n",
    "    'gpa' : [2.10, 3.50, 4.50, 2.70, 3.00, 3.15, 4.00, 0.00, 3.25, 3.70]\n",
    "})\n",
    "print(c.T)"
   ]
  },
  {
   "cell_type": "code",
   "execution_count": 108,
   "metadata": {},
   "outputs": [
    {
     "name": "stdout",
     "output_type": "stream",
     "text": [
      "2.99\n"
     ]
    }
   ],
   "source": [
    "# Q2.a\n",
    "\n",
    "print(round(sum(a['gpa'])/len(a['gpa']),2))"
   ]
  },
  {
   "cell_type": "code",
   "execution_count": 109,
   "metadata": {},
   "outputs": [
    {
     "name": "stdout",
     "output_type": "stream",
     "text": [
      "2.99\n",
      "3.2\n"
     ]
    }
   ],
   "source": [
    "# Q2.b\n",
    "\n",
    "x = np.array(b[2],dtype = float)\n",
    "\n",
    "print(np.mean(x))\n",
    "print(np.median(x))"
   ]
  },
  {
   "cell_type": "code",
   "execution_count": 110,
   "metadata": {},
   "outputs": [
    {
     "name": "stdout",
     "output_type": "stream",
     "text": [
      "2.99\n",
      "3.2\n"
     ]
    }
   ],
   "source": [
    "# Q2.c\n",
    "\n",
    "print(round(c['gpa'].mean(),2))\n",
    "print(c['gpa'].median())"
   ]
  },
  {
   "cell_type": "code",
   "execution_count": 111,
   "metadata": {},
   "outputs": [
    {
     "name": "stdout",
     "output_type": "stream",
     "text": [
      "3.2\n"
     ]
    }
   ],
   "source": [
    "# Q3\n",
    "\n",
    "def med(lst):\n",
    "    lst.sort()\n",
    "    while(True):\n",
    "        if(len(lst)==1):\n",
    "            return lst[0]\n",
    "        elif(len(lst)==2):\n",
    "            return (lst[0]+lst[1])/2\n",
    "        lst.remove(min(lst))\n",
    "        lst.remove(max(lst))\n",
    "\n",
    "print(med(a['gpa']))"
   ]
  },
  {
   "cell_type": "code",
   "execution_count": 112,
   "metadata": {},
   "outputs": [
    {
     "name": "stdout",
     "output_type": "stream",
     "text": [
      "9    3.7\n",
      "Name: gpa, dtype: float64\n"
     ]
    }
   ],
   "source": [
    "# Q4\n",
    "\n",
    "print(c.sort_values('gpa', ascending = False).head(3).tail(1)['gpa'])"
   ]
  },
  {
   "cell_type": "code",
   "execution_count": 113,
   "metadata": {},
   "outputs": [
    {
     "data": {
      "text/html": [
       "<div>\n",
       "<style scoped>\n",
       "    .dataframe tbody tr th:only-of-type {\n",
       "        vertical-align: middle;\n",
       "    }\n",
       "\n",
       "    .dataframe tbody tr th {\n",
       "        vertical-align: top;\n",
       "    }\n",
       "\n",
       "    .dataframe thead tr th {\n",
       "        text-align: left;\n",
       "    }\n",
       "\n",
       "    .dataframe thead tr:last-of-type th {\n",
       "        text-align: right;\n",
       "    }\n",
       "</style>\n",
       "<table border=\"1\" class=\"dataframe\">\n",
       "  <thead>\n",
       "    <tr>\n",
       "      <th></th>\n",
       "      <th colspan=\"3\" halign=\"left\">gpa</th>\n",
       "    </tr>\n",
       "    <tr>\n",
       "      <th></th>\n",
       "      <th>mean</th>\n",
       "      <th>max</th>\n",
       "      <th>min</th>\n",
       "    </tr>\n",
       "    <tr>\n",
       "      <th>dep</th>\n",
       "      <th></th>\n",
       "      <th></th>\n",
       "      <th></th>\n",
       "    </tr>\n",
       "  </thead>\n",
       "  <tbody>\n",
       "    <tr>\n",
       "      <th>as</th>\n",
       "      <td>3.575000</td>\n",
       "      <td>4.0</td>\n",
       "      <td>3.15</td>\n",
       "    </tr>\n",
       "    <tr>\n",
       "      <th>cs</th>\n",
       "      <td>2.800000</td>\n",
       "      <td>3.5</td>\n",
       "      <td>2.10</td>\n",
       "    </tr>\n",
       "    <tr>\n",
       "      <th>dcd</th>\n",
       "      <td>2.700000</td>\n",
       "      <td>2.7</td>\n",
       "      <td>2.70</td>\n",
       "    </tr>\n",
       "    <tr>\n",
       "      <th>dt</th>\n",
       "      <td>3.750000</td>\n",
       "      <td>4.5</td>\n",
       "      <td>3.00</td>\n",
       "    </tr>\n",
       "    <tr>\n",
       "      <th>ice</th>\n",
       "      <td>2.316667</td>\n",
       "      <td>3.7</td>\n",
       "      <td>0.00</td>\n",
       "    </tr>\n",
       "  </tbody>\n",
       "</table>\n",
       "</div>"
      ],
      "text/plain": [
       "          gpa           \n",
       "         mean  max   min\n",
       "dep                     \n",
       "as   3.575000  4.0  3.15\n",
       "cs   2.800000  3.5  2.10\n",
       "dcd  2.700000  2.7  2.70\n",
       "dt   3.750000  4.5  3.00\n",
       "ice  2.316667  3.7  0.00"
      ]
     },
     "execution_count": 113,
     "metadata": {},
     "output_type": "execute_result"
    }
   ],
   "source": [
    "# Q5\n",
    "\n",
    "c.groupby('dep').aggregate(['mean',max,min])"
   ]
  },
  {
   "cell_type": "code",
   "execution_count": 114,
   "metadata": {},
   "outputs": [
    {
     "data": {
      "text/html": [
       "<div>\n",
       "<style scoped>\n",
       "    .dataframe tbody tr th:only-of-type {\n",
       "        vertical-align: middle;\n",
       "    }\n",
       "\n",
       "    .dataframe tbody tr th {\n",
       "        vertical-align: top;\n",
       "    }\n",
       "\n",
       "    .dataframe thead th {\n",
       "        text-align: right;\n",
       "    }\n",
       "</style>\n",
       "<table border=\"1\" class=\"dataframe\">\n",
       "  <thead>\n",
       "    <tr style=\"text-align: right;\">\n",
       "      <th>year</th>\n",
       "      <th>2018</th>\n",
       "      <th>2019</th>\n",
       "      <th>2020</th>\n",
       "      <th>2021</th>\n",
       "    </tr>\n",
       "    <tr>\n",
       "      <th>dep</th>\n",
       "      <th></th>\n",
       "      <th></th>\n",
       "      <th></th>\n",
       "      <th></th>\n",
       "    </tr>\n",
       "  </thead>\n",
       "  <tbody>\n",
       "    <tr>\n",
       "      <th>as</th>\n",
       "      <td>NaN</td>\n",
       "      <td>NaN</td>\n",
       "      <td>3.6</td>\n",
       "      <td>3.7</td>\n",
       "    </tr>\n",
       "    <tr>\n",
       "      <th>cs</th>\n",
       "      <td>2.8</td>\n",
       "      <td>NaN</td>\n",
       "      <td>0.0</td>\n",
       "      <td>NaN</td>\n",
       "    </tr>\n",
       "    <tr>\n",
       "      <th>dt</th>\n",
       "      <td>NaN</td>\n",
       "      <td>3.6</td>\n",
       "      <td>3.0</td>\n",
       "      <td>3.2</td>\n",
       "    </tr>\n",
       "  </tbody>\n",
       "</table>\n",
       "</div>"
      ],
      "text/plain": [
       "year  2018  2019  2020  2021\n",
       "dep                         \n",
       "as     NaN   NaN   3.6   3.7\n",
       "cs     2.8   NaN   0.0   NaN\n",
       "dt     NaN   3.6   3.0   3.2"
      ]
     },
     "execution_count": 114,
     "metadata": {},
     "output_type": "execute_result"
    }
   ],
   "source": [
    "# Q6\n",
    "\n",
    "d = pd.DataFrame ({ 'dep' : [\"cs\", \"cs\", \"dt\", \"dt\", \"dt\", \"as\", \"as\", \"cs\", \"dt\", \"as\"],\n",
    "'sno' : [\"0001\", \"0002\", \"0003\", \"0004\", \"0005\", \"0006\", \"0007\", \"0008\", \"0009\", \"0010\"],\n",
    "'gpa' : [2.10, 3.50, 4.50, 2.70, 3.00, 3.20, 4.00, 0.00, 3.20, 3.70],\n",
    "'year' : [2018, 2018, 2019, 2019, 2020, 2020, 2020, 2020, 2021, 2021]})\n",
    "\n",
    "pd.pivot_table(data=d, values='gpa', index='dep', columns='year')"
   ]
  },
  {
   "cell_type": "code",
   "execution_count": null,
   "metadata": {},
   "outputs": [],
   "source": []
  }
 ],
 "metadata": {
  "kernelspec": {
   "display_name": "Python 3",
   "language": "python",
   "name": "python3"
  },
  "language_info": {
   "codemirror_mode": {
    "name": "ipython",
    "version": 3
   },
   "file_extension": ".py",
   "mimetype": "text/x-python",
   "name": "python",
   "nbconvert_exporter": "python",
   "pygments_lexer": "ipython3",
   "version": "3.8.5"
  }
 },
 "nbformat": 4,
 "nbformat_minor": 4
}
