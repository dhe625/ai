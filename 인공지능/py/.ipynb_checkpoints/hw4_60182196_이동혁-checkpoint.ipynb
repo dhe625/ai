{
 "cells": [
  {
   "cell_type": "code",
   "execution_count": 5,
   "metadata": {},
   "outputs": [
    {
     "name": "stdout",
     "output_type": "stream",
     "text": [
      "                AllElectronics  HighTech\n",
      "AllElectronics        1.000000  0.867443\n",
      "HighTech              0.867443  1.000000\n",
      "                AllElectronics  HighTech\n",
      "AllElectronics            2.50      8.75\n",
      "HighTech                  8.75     40.70\n"
     ]
    }
   ],
   "source": [
    "import numpy\n",
    "import pandas as pd\n",
    "\n",
    "df = pd.DataFrame.from_dict({'Time point' : ['t1','t2','t3','t4','t5'], 'AllElectronics' : [6,5,4,3,2], 'HighTech' : [20,10,14,5,5] })\n",
    "corr = df.corr(method = 'pearson')\n",
    "print(corr) # 상관계수 확인\n",
    "print(df.cov()) # 공분산 (두 변수간 편차 곱의 평균) 확인"
   ]
  },
  {
   "cell_type": "code",
   "execution_count": null,
   "metadata": {},
   "outputs": [],
   "source": []
  }
 ],
 "metadata": {
  "kernelspec": {
   "display_name": "Python 3",
   "language": "python",
   "name": "python3"
  },
  "language_info": {
   "codemirror_mode": {
    "name": "ipython",
    "version": 3
   },
   "file_extension": ".py",
   "mimetype": "text/x-python",
   "name": "python",
   "nbconvert_exporter": "python",
   "pygments_lexer": "ipython3",
   "version": "3.8.5"
  }
 },
 "nbformat": 4,
 "nbformat_minor": 4
}
