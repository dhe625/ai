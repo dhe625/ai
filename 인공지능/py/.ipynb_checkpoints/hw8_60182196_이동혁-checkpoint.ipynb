{
 "cells": [
  {
   "cell_type": "code",
   "execution_count": 11,
   "metadata": {},
   "outputs": [
    {
     "name": "stdout",
     "output_type": "stream",
     "text": [
      "done\n"
     ]
    }
   ],
   "source": [
    "from sklearn.datasets import load_files\n",
    "import numpy as np\n",
    "\n",
    "reviews_train = load_files(\"/Users/leedonghyeok/Downloads/aclImdb/train\")\n",
    "reviews_test = load_files(\"/Users/leedonghyeok/Downloads/aclImdb/test\")\n",
    "\n",
    "text_train, y_train = reviews_train.data, reviews_train.target\n",
    "text_test, y_test = reviews_test.data, reviews_test.target\n",
    "\n",
    "print(\"done\")"
   ]
  },
  {
   "cell_type": "code",
   "execution_count": 12,
   "metadata": {},
   "outputs": [
    {
     "name": "stdout",
     "output_type": "stream",
     "text": [
      "done\n"
     ]
    }
   ],
   "source": [
    "text_train = [doc.replace(b\"<br />\", b\" \")  for doc in text_train]\n",
    "text_test = [doc.replace(b\"<br />\", b\" \")  for doc in text_test]\n",
    "\n",
    "print(\"done\")\n",
    "\n",
    "# 전(일부) : doesn't hurt either.<br /><br />Stargate SG1\n",
    "# 후(일부) : doesn't hurt either.  Stargate SG1"
   ]
  },
  {
   "cell_type": "code",
   "execution_count": 13,
   "metadata": {},
   "outputs": [
    {
     "name": "stdout",
     "output_type": "stream",
     "text": [
      "done\n"
     ]
    }
   ],
   "source": [
    "from sklearn.feature_extraction.text import CountVectorizer\n",
    "\n",
    "vect = CountVectorizer(stop_words = 'english').fit(text_train)\n",
    "\n",
    "X_test = vect.transform(text_test)\n",
    "\n",
    "print(\"done\")"
   ]
  },
  {
   "cell_type": "code",
   "execution_count": 23,
   "metadata": {},
   "outputs": [
    {
     "name": "stdout",
     "output_type": "stream",
     "text": [
      "Execution time(seconds) 407.48\n",
      "각 validation 정답률 =  [0.8728 0.8584 0.8532 0.8768 0.8516 0.8592 0.8588 0.8568 0.8372 0.856 ]\n",
      "평균 정답률 : 0.86\n"
     ]
    }
   ],
   "source": [
    "from sklearn.ensemble import RandomForestClassifier\n",
    "from sklearn import metrics, model_selection\n",
    "from time import time\n",
    "\n",
    "start = time()\n",
    "\n",
    "clf = RandomForestClassifier(n_estimators = 100)\n",
    "clf.fit(X_test, y_test)\n",
    "\n",
    "scores = model_selection.cross_val_score(clf, X_test, y_test, cv = 10)\n",
    "\n",
    "end = time()\n",
    "\n",
    "print(\"Execution time(seconds)\", str(round((end-start), 2)))\n",
    "print(\"각 validation 정답률 = \", scores)\n",
    "print(\"평균 정답률 :\", \"%.2f\"%scores.mean())"
   ]
  },
  {
   "cell_type": "code",
   "execution_count": 15,
   "metadata": {},
   "outputs": [
    {
     "name": "stdout",
     "output_type": "stream",
     "text": [
      "Execution time(seconds) 40.56\n",
      "각 validation 정답률 =  [0.782  0.776  0.7852 0.7784 0.7716 0.7636 0.7816 0.7752 0.7612 0.7644]\n",
      "평균 정답률 : 0.77\n"
     ]
    }
   ],
   "source": [
    "from sklearn.ensemble import RandomForestClassifier\n",
    "from sklearn import metrics, model_selection\n",
    "from time import time\n",
    "\n",
    "start = time()\n",
    "\n",
    "clf = RandomForestClassifier(n_estimators = 10)\n",
    "clf.fit(X_test, y_test)\n",
    "\n",
    "scores = model_selection.cross_val_score(clf, X_test, y_test, cv = 10)\n",
    "\n",
    "end = time()\n",
    "\n",
    "print(\"Execution time(seconds)\", str(round((end-start), 2)))\n",
    "print(\"각 validation 정답률 = \", scores)\n",
    "print(\"평균 정답률 :\", \"%.2f\"%scores.mean())"
   ]
  },
  {
   "cell_type": "code",
   "execution_count": 20,
   "metadata": {},
   "outputs": [
    {
     "name": "stdout",
     "output_type": "stream",
     "text": [
      "Execution time(seconds) 3.52\n",
      "각 validation 정답률 =  [0.70266379 0.69914797 0.7023881 ]\n",
      "평균 정답률 : 0.70\n"
     ]
    }
   ],
   "source": [
    "from sklearn.ensemble import RandomForestClassifier\n",
    "from sklearn import metrics, model_selection\n",
    "from time import time\n",
    "\n",
    "start = time()\n",
    "\n",
    "clf = RandomForestClassifier(n_estimators = 3)\n",
    "clf.fit(X_test, y_test)\n",
    "\n",
    "scores = model_selection.cross_val_score(clf, X_test, y_test, cv = 3)\n",
    "\n",
    "end = time()\n",
    "\n",
    "print(\"Execution time(seconds)\", str(round((end-start), 2)))\n",
    "print(\"각 validation 정답률 = \", scores)\n",
    "print(\"평균 정답률 :\", \"%.2f\"%scores.mean())"
   ]
  },
  {
   "cell_type": "code",
   "execution_count": null,
   "metadata": {},
   "outputs": [],
   "source": []
  }
 ],
 "metadata": {
  "kernelspec": {
   "display_name": "Python 3",
   "language": "python",
   "name": "python3"
  },
  "language_info": {
   "codemirror_mode": {
    "name": "ipython",
    "version": 3
   },
   "file_extension": ".py",
   "mimetype": "text/x-python",
   "name": "python",
   "nbconvert_exporter": "python",
   "pygments_lexer": "ipython3",
   "version": "3.8.5"
  }
 },
 "nbformat": 4,
 "nbformat_minor": 4
}
