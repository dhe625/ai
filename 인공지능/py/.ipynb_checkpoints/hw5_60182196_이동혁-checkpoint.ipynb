{
 "cells": [
  {
   "cell_type": "code",
   "execution_count": 32,
   "metadata": {},
   "outputs": [
    {
     "name": "stdout",
     "output_type": "stream",
     "text": [
      "(a)\n",
      "\n",
      "Min-max normalization : [0.0, 0.125, 0.25, 0.5, 1.0] \n",
      "\n",
      "(b)\n",
      "\n",
      "Z-score normalization : [-1.0606601717798212, -0.7071067811865475, -0.35355339059327373, 0.35355339059327373, 1.7677669529663687]\n"
     ]
    }
   ],
   "source": [
    "# 1\n",
    "import numpy as np\n",
    "\n",
    "arr = [200, 300, 400, 600, 1000]\n",
    "minMax = []\n",
    "for num in arr:\n",
    "    minMax.append((num-min(arr))/(max(arr)-min(arr)))\n",
    "print('(a)\\n')\n",
    "print('Min-max normalization :',minMax,'\\n')\n",
    "\n",
    "z_score = []\n",
    "for num in arr:\n",
    "    z_score.append((num-np.mean(arr))/np.std(arr))\n",
    "print('(b)\\n')\n",
    "print('Z-score normalization :',z_score)"
   ]
  },
  {
   "cell_type": "code",
   "execution_count": 30,
   "metadata": {},
   "outputs": [
    {
     "name": "stdout",
     "output_type": "stream",
     "text": [
      "(a)\n",
      "\n",
      "         age      %fat\n",
      "0  -1.825011 -2.144104\n",
      "1  -1.825011 -0.253883\n",
      "2  -1.513635 -2.333126\n",
      "3  -1.513635 -1.221231\n",
      "4  -0.579506  0.290946\n",
      "5  -0.423818 -0.320596\n",
      "6   0.043247 -0.153812\n",
      "7   0.198935 -0.176050\n",
      "8   0.276779  0.268708\n",
      "9   0.432467  0.646752\n",
      "10  0.588155  1.525149\n",
      "11  0.588155  0.001853\n",
      "12  0.743843  0.513325\n",
      "13  0.821687  0.157518\n",
      "14  0.899531  0.591157\n",
      "15  0.899531  0.457730\n",
      "16  1.055220  1.380603\n",
      "17  1.133064  0.769061 \n",
      "\n",
      "(b)\n",
      "\n",
      "           age      %fat\n",
      "age   1.000000  0.817619\n",
      "%fat  0.817619  1.000000\n",
      "             age        %fat\n",
      "age   174.732026  100.019608\n",
      "%fat  100.019608   85.643824\n"
     ]
    }
   ],
   "source": [
    "# 2\n",
    "import pandas as pd\n",
    "x = pd.DataFrame({'age' : [23, 23, 27, 27, 39, 41, 47, 49, 50, 52, 54, 54, 56, 57, 58, 58, 60, 61],\n",
    "                 '%fat' : [9.5, 26.5, 7.8, 17.8, 31.4, 25.9, 27.4, 27.2, 31.2, 34.6, 42.5, 28.8, 33.4, 30.2, 34.1, 32.9, 41.2, 35.7]})\n",
    "\n",
    "z_age = []\n",
    "for num in x['age']:\n",
    "    z_age.append((num-np.mean(x['age']))/np.std(x['age']))\n",
    "\n",
    "z_fat = []\n",
    "for num in x['%fat']:\n",
    "    z_fat.append((num-np.mean(x['%fat']))/np.std(x['%fat']))\n",
    "    \n",
    "y = pd.DataFrame({'age' : z_age, '%fat' : z_fat})\n",
    "print('(a)\\n')\n",
    "print(y,'\\n')\n",
    "\n",
    "print('(b)\\n')\n",
    "corr = x.corr(method = 'pearson')\n",
    "print(corr) # 상관계수 확인\n",
    "print(x.cov()) # 공분산 (두 변수간 편차 곱의 평균) 확인"
   ]
  },
  {
   "cell_type": "code",
   "execution_count": 33,
   "metadata": {},
   "outputs": [
    {
     "name": "stdout",
     "output_type": "stream",
     "text": [
      "(b)\n",
      "\n",
      "[70]\n"
     ]
    }
   ],
   "source": [
    "# 3\n",
    "\n",
    "age = [13, 15, 16, 16, 19, 20, 20, 21, 22, 22, 25, 25, 25, 25, 30, 33, 33, 35, 35, 35, 35, 36, 40, 45, 46, 52, 70]\n",
    "\n",
    "bin1 = [13, 15, 16]\n",
    "bin2 = [16, 19, 20]\n",
    "bin3 = [20, 21, 22]\n",
    "bin4 = [22, 25, 25]\n",
    "bin5 = [25, 25, 30]\n",
    "bin6 = [33, 33, 35]\n",
    "bin7 = [35, 35, 35]\n",
    "bin8 = [36, 40, 45]\n",
    "bin9 = [46, 52, 70]\n",
    "\n",
    "#print(np.mean(bin1)) -> 14.6\n",
    "#print(np.mean(bin2)) -> 18.3\n",
    "#print(np.mean(bin3)) -> 21\n",
    "#print(np.mean(bin4)) -> 24\n",
    "#print(np.mean(bin5)) -> 26.6\n",
    "#print(np.mean(bin6)) -> 33.6\n",
    "#print(np.mean(bin7)) -> 35\n",
    "#print(np.mean(bin8)) -> 40.3\n",
    "#print(np.mean(bin9)) -> 56\n",
    "\n",
    "m_bin1 = [14.6, 14.6, 14.6]\n",
    "m_bin2 = [18.3, 18.3, 18.3]\n",
    "m_bin3 = [21, 21, 21]\n",
    "m_bin4 = [24, 24, 24]\n",
    "m_bin5 = [26.6, 26.6, 26.6]\n",
    "m_bin6 = [33.6, 33.6, 33.6]\n",
    "m_bin7 = [35, 35, 35]\n",
    "m_bin8 = [40.3, 40.3, 40.3]\n",
    "m_bin9 = [56, 56, 56]\n",
    "\n",
    "outliers = []\n",
    "q1 = np.quantile(age,0.25)\n",
    "q3 = np.quantile(age,0.75)\n",
    "IQR = q3-q1\n",
    "\n",
    "for num in age:\n",
    "    if(num<q1-1.5*IQR or num>q3+1.5*IQR):\n",
    "        outliers.append(num)\n",
    "print('(b)\\n')\n",
    "print(outliers) # IQR 방식을 사용하여 q1-1.5*IQR 미만이거나 q3+1.5*IQR 초과인 것은 outliers이다."
   ]
  },
  {
   "cell_type": "code",
   "execution_count": 37,
   "metadata": {},
   "outputs": [
    {
     "name": "stdout",
     "output_type": "stream",
     "text": [
      "(a)\n",
      "\n",
      "equal frequency binning\n",
      "[5, 10, 11, 13]\n",
      "[15, 35, 50, 55]\n",
      "[72, 92, 204, 215]\n",
      "\n",
      "(b)\n",
      "\n",
      "equal width binning\n",
      "[[5, 10, 11, 13, 15, 35, 50, 55, 72], [92], [204, 215]]\n"
     ]
    }
   ],
   "source": [
    "# 4\n",
    "\n",
    "price = [5, 10, 11, 13, 15, 35, 50, 55, 72, 92, 204, 215]\n",
    "m = 3\n",
    "\n",
    "def equifreq(arr1, m):   \n",
    "    a = len(arr1)\n",
    "    n = int(a / m)\n",
    "    for i in range(0, m):\n",
    "        arr = []\n",
    "        for j in range(i * n, (i + 1) * n):\n",
    "            if j >= a:\n",
    "                break\n",
    "            arr = arr + [arr1[j]]\n",
    "        print(arr)\n",
    "\n",
    "def equiwidth(arr1, m):\n",
    "    a = len(arr1)\n",
    "    w = int((max(arr1) - min(arr1)) / m)\n",
    "    min1 = min(arr1)\n",
    "    arr = []\n",
    "    for i in range(0, m + 1):\n",
    "        arr = arr + [min1 + w * i]\n",
    "    arri=[]\n",
    "     \n",
    "    for i in range(0, m):\n",
    "        temp = []\n",
    "        for j in arr1:\n",
    "            if j >= arr[i] and j <= arr[i+1]:\n",
    "                temp += [j]\n",
    "        arri += [temp]\n",
    "    print(arri)\n",
    "\n",
    "print('(a)\\n')\n",
    "print(\"equal frequency binning\")\n",
    "equifreq(price, m)\n",
    "\n",
    "print('\\n(b)\\n')\n",
    "print(\"equal width binning\")\n",
    "equiwidth(price, m)\n",
    "    \n",
    "# https://www.geeksforgeeks.org/binning-in-data-mining/ (참고)"
   ]
  },
  {
   "cell_type": "code",
   "execution_count": 28,
   "metadata": {},
   "outputs": [
    {
     "name": "stdout",
     "output_type": "stream",
     "text": [
      "     A  big  medium  small\n",
      "0  1.0    1       0      0\n",
      "1  0.0    0       0      1\n",
      "2  0.4    0       1      0\n",
      "3  0.8    1       0      0\n",
      "4  0.2    0       0      1\n"
     ]
    }
   ],
   "source": [
    "# 5\n",
    "\n",
    "from sklearn.preprocessing import minmax_scale\n",
    "\n",
    "df = pd.DataFrame({'A' : [100, 0, 40, 80, 20],\n",
    "                  'B' : ['big', 'small', 'medium', 'big', 'small']})\n",
    "\n",
    "df['A'] = minmax_scale(df.A.astype(float))\n",
    "\n",
    "one_hot = pd.get_dummies(df['B'])\n",
    "df = df.drop('B', axis = 1)\n",
    "df = df.join(one_hot)\n",
    "\n",
    "print(df)"
   ]
  },
  {
   "cell_type": "code",
   "execution_count": null,
   "metadata": {},
   "outputs": [],
   "source": []
  }
 ],
 "metadata": {
  "kernelspec": {
   "display_name": "Python 3",
   "language": "python",
   "name": "python3"
  },
  "language_info": {
   "codemirror_mode": {
    "name": "ipython",
    "version": 3
   },
   "file_extension": ".py",
   "mimetype": "text/x-python",
   "name": "python",
   "nbconvert_exporter": "python",
   "pygments_lexer": "ipython3",
   "version": "3.8.5"
  }
 },
 "nbformat": 4,
 "nbformat_minor": 4
}
